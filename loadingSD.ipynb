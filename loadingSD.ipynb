{
 "cells": [
  {
   "cell_type": "code",
   "execution_count": 1,
   "metadata": {},
   "outputs": [],
   "source": [
    "import pandas_datareader.data as web"
   ]
  },
  {
   "cell_type": "code",
   "execution_count": 2,
   "metadata": {},
   "outputs": [],
   "source": [
    "import datetime"
   ]
  },
  {
   "cell_type": "code",
   "execution_count": 3,
   "metadata": {},
   "outputs": [],
   "source": [
    "start = datetime.datetime(2019,1,20)\n",
    "end = datetime.datetime(2019,1,29)"
   ]
  },
  {
   "cell_type": "code",
   "execution_count": 8,
   "metadata": {},
   "outputs": [
    {
     "data": {
      "text/html": [
       "<div>\n",
       "<style scoped>\n",
       "    .dataframe tbody tr th:only-of-type {\n",
       "        vertical-align: middle;\n",
       "    }\n",
       "\n",
       "    .dataframe tbody tr th {\n",
       "        vertical-align: top;\n",
       "    }\n",
       "\n",
       "    .dataframe thead th {\n",
       "        text-align: right;\n",
       "    }\n",
       "</style>\n",
       "<table border=\"1\" class=\"dataframe\">\n",
       "  <thead>\n",
       "    <tr style=\"text-align: right;\">\n",
       "      <th></th>\n",
       "      <th>name</th>\n",
       "      <th>code</th>\n",
       "    </tr>\n",
       "  </thead>\n",
       "  <tbody>\n",
       "    <tr>\n",
       "      <th>0</th>\n",
       "      <td>CJ</td>\n",
       "      <td>001040</td>\n",
       "    </tr>\n",
       "    <tr>\n",
       "      <th>1</th>\n",
       "      <td>CJ씨푸드</td>\n",
       "      <td>011150</td>\n",
       "    </tr>\n",
       "    <tr>\n",
       "      <th>2</th>\n",
       "      <td>HSD엔진</td>\n",
       "      <td>082740</td>\n",
       "    </tr>\n",
       "    <tr>\n",
       "      <th>3</th>\n",
       "      <td>KG케미칼</td>\n",
       "      <td>001390</td>\n",
       "    </tr>\n",
       "    <tr>\n",
       "      <th>4</th>\n",
       "      <td>OCI</td>\n",
       "      <td>010060</td>\n",
       "    </tr>\n",
       "  </tbody>\n",
       "</table>\n",
       "</div>"
      ],
      "text/plain": [
       "    name    code\n",
       "0     CJ  001040\n",
       "1  CJ씨푸드  011150\n",
       "2  HSD엔진  082740\n",
       "3  KG케미칼  001390\n",
       "4    OCI  010060"
      ]
     },
     "execution_count": 8,
     "metadata": {},
     "output_type": "execute_result"
    }
   ],
   "source": [
    "import pandas as pd \n",
    "code_df = pd.read_html('http://kind.krx.co.kr/corpgeneral/corpList.do?method=download&searchType=13', header=0)[0] \n",
    "# 종목코드가 6자리이기 때문에 6자리를 맞춰주기 위해 설정해줌 \n",
    "code_df.종목코드 = code_df.종목코드.map('{:06d}'.format) \n",
    "# 우리가 필요한 것은 회사명과 종목코드이기 때문에 필요없는 column들은 제외해준다. \n",
    "code_df = code_df[['회사명', '종목코드']] \n",
    "# 한글로된 컬럼명을 영어로 바꿔준다. \n",
    "code_df = code_df.rename(columns={'회사명': 'name', '종목코드': 'code'}) \n",
    "code_df.head()"
   ]
  },
  {
   "cell_type": "code",
   "execution_count": 10,
   "metadata": {},
   "outputs": [
    {
     "name": "stdout",
     "output_type": "stream",
     "text": [
      "요청 URL = http://finance.naver.com/item/sise_day.nhn?code=034220\n"
     ]
    },
    {
     "data": {
      "text/html": [
       "<div>\n",
       "<style scoped>\n",
       "    .dataframe tbody tr th:only-of-type {\n",
       "        vertical-align: middle;\n",
       "    }\n",
       "\n",
       "    .dataframe tbody tr th {\n",
       "        vertical-align: top;\n",
       "    }\n",
       "\n",
       "    .dataframe thead th {\n",
       "        text-align: right;\n",
       "    }\n",
       "</style>\n",
       "<table border=\"1\" class=\"dataframe\">\n",
       "  <thead>\n",
       "    <tr style=\"text-align: right;\">\n",
       "      <th></th>\n",
       "      <th>날짜</th>\n",
       "      <th>종가</th>\n",
       "      <th>전일비</th>\n",
       "      <th>시가</th>\n",
       "      <th>고가</th>\n",
       "      <th>저가</th>\n",
       "      <th>거래량</th>\n",
       "    </tr>\n",
       "  </thead>\n",
       "  <tbody>\n",
       "    <tr>\n",
       "      <th>1</th>\n",
       "      <td>2019.01.30</td>\n",
       "      <td>19750.0</td>\n",
       "      <td>750.0</td>\n",
       "      <td>20800.0</td>\n",
       "      <td>21100.0</td>\n",
       "      <td>19600.0</td>\n",
       "      <td>4880363.0</td>\n",
       "    </tr>\n",
       "    <tr>\n",
       "      <th>2</th>\n",
       "      <td>2019.01.29</td>\n",
       "      <td>20500.0</td>\n",
       "      <td>350.0</td>\n",
       "      <td>20150.0</td>\n",
       "      <td>20600.0</td>\n",
       "      <td>20100.0</td>\n",
       "      <td>1935160.0</td>\n",
       "    </tr>\n",
       "    <tr>\n",
       "      <th>3</th>\n",
       "      <td>2019.01.28</td>\n",
       "      <td>20150.0</td>\n",
       "      <td>150.0</td>\n",
       "      <td>20300.0</td>\n",
       "      <td>20350.0</td>\n",
       "      <td>19950.0</td>\n",
       "      <td>1549538.0</td>\n",
       "    </tr>\n",
       "    <tr>\n",
       "      <th>4</th>\n",
       "      <td>2019.01.25</td>\n",
       "      <td>20300.0</td>\n",
       "      <td>450.0</td>\n",
       "      <td>19900.0</td>\n",
       "      <td>20400.0</td>\n",
       "      <td>19850.0</td>\n",
       "      <td>2055931.0</td>\n",
       "    </tr>\n",
       "    <tr>\n",
       "      <th>5</th>\n",
       "      <td>2019.01.24</td>\n",
       "      <td>19850.0</td>\n",
       "      <td>50.0</td>\n",
       "      <td>19900.0</td>\n",
       "      <td>20000.0</td>\n",
       "      <td>19700.0</td>\n",
       "      <td>982080.0</td>\n",
       "    </tr>\n",
       "  </tbody>\n",
       "</table>\n",
       "</div>"
      ],
      "text/plain": [
       "           날짜       종가    전일비       시가       고가       저가        거래량\n",
       "1  2019.01.30  19750.0  750.0  20800.0  21100.0  19600.0  4880363.0\n",
       "2  2019.01.29  20500.0  350.0  20150.0  20600.0  20100.0  1935160.0\n",
       "3  2019.01.28  20150.0  150.0  20300.0  20350.0  19950.0  1549538.0\n",
       "4  2019.01.25  20300.0  450.0  19900.0  20400.0  19850.0  2055931.0\n",
       "5  2019.01.24  19850.0   50.0  19900.0  20000.0  19700.0   982080.0"
      ]
     },
     "execution_count": 10,
     "metadata": {},
     "output_type": "execute_result"
    }
   ],
   "source": [
    "# 종목 이름을 입력하면 종목에 해당하는 코드를 불러와 \n",
    "# 네이버 금융(http://finance.naver.com)에 넣어줌 \n",
    "def get_url(item_name, code_df): \n",
    "    code = code_df.query(\"name=='{}'\".format(item_name))['code'].to_string(index=False) \n",
    "    url = 'http://finance.naver.com/item/sise_day.nhn?code={code}'.format(code=code.strip()) \n",
    "    print(\"요청 URL = {}\".format(url)) \n",
    "    return url \n",
    "# 신라젠의 일자데이터 url 가져오기 \n",
    "item_name='LG디스플레이' \n",
    "url = get_url(item_name, code_df) \n",
    "# 일자 데이터를 담을 df라는 DataFrame 정의 \n",
    "df = pd.DataFrame() \n",
    "# 1페이지에서 20페이지의 데이터만 가져오기 \n",
    "for page in range(1, 21): \n",
    "    pg_url = '{url}&page={page}'.format(url=url, page=page) \n",
    "    df = df.append(pd.read_html(pg_url, header=0)[0], ignore_index=True) \n",
    "# df.dropna()를 이용해 결측값 있는 행 제거 \n",
    "df = df.dropna() \n",
    "# 상위 5개 데이터 확인하기 \n",
    "df.head()"
   ]
  },
  {
   "cell_type": "code",
   "execution_count": null,
   "metadata": {},
   "outputs": [],
   "source": []
  }
 ],
 "metadata": {
  "kernelspec": {
   "display_name": "Python 3",
   "language": "python",
   "name": "python3"
  },
  "language_info": {
   "codemirror_mode": {
    "name": "ipython",
    "version": 3
   },
   "file_extension": ".py",
   "mimetype": "text/x-python",
   "name": "python",
   "nbconvert_exporter": "python",
   "pygments_lexer": "ipython3",
   "version": "3.6.5"
  }
 },
 "nbformat": 4,
 "nbformat_minor": 2
}
